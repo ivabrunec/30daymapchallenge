{
 "cells": [
  {
   "cell_type": "code",
   "execution_count": 2,
   "id": "a09aa0bf",
   "metadata": {},
   "outputs": [
    {
     "name": "stdout",
     "output_type": "stream",
     "text": [
      "Obtaining prettymaps from git+https://github.com/marceloprates/prettymaps#egg=prettymaps\n",
      "  Cloning https://github.com/marceloprates/prettymaps to c:\\users\\ivakr\\documents\\github\\30daymapchallenge\\scripts\\2022\\src\\prettymaps\n",
      "  Resolved https://github.com/marceloprates/prettymaps to commit 3f3b8be923a9c0abda10fbc6f002ceb048c8e7f2\n",
      "Requirement already satisfied: osmnx==1.1.2 in c:\\users\\ivakr\\anaconda3\\lib\\site-packages (from prettymaps) (1.1.2)\n",
      "Requirement already satisfied: tabulate==0.8.9 in c:\\users\\ivakr\\anaconda3\\lib\\site-packages (from prettymaps) (0.8.9)\n",
      "Requirement already satisfied: Shapely<2.0,>=1.8 in c:\\users\\ivakr\\anaconda3\\lib\\site-packages (from prettymaps) (1.8.5.post1)\n",
      "Requirement already satisfied: descartes==1.1.0 in c:\\users\\ivakr\\anaconda3\\lib\\site-packages (from prettymaps) (1.1.0)\n",
      "Requirement already satisfied: pyyaml==6.0.0 in c:\\users\\ivakr\\anaconda3\\lib\\site-packages (from prettymaps) (6.0)\n",
      "Requirement already satisfied: matplotlib in c:\\users\\ivakr\\anaconda3\\lib\\site-packages (from descartes==1.1.0->prettymaps) (3.5.1)\n",
      "Requirement already satisfied: networkx>=2.6 in c:\\users\\ivakr\\anaconda3\\lib\\site-packages (from osmnx==1.1.2->prettymaps) (2.7.1)\n",
      "Requirement already satisfied: Rtree>=0.9 in c:\\users\\ivakr\\anaconda3\\lib\\site-packages (from osmnx==1.1.2->prettymaps) (0.9.7)\n",
      "Requirement already satisfied: pyproj>=3.2 in c:\\users\\ivakr\\anaconda3\\lib\\site-packages (from osmnx==1.1.2->prettymaps) (3.4.0)\n",
      "Requirement already satisfied: geopandas>=0.10 in c:\\users\\ivakr\\anaconda3\\lib\\site-packages (from osmnx==1.1.2->prettymaps) (0.12.1)\n",
      "Requirement already satisfied: numpy>=1.21 in c:\\users\\ivakr\\anaconda3\\lib\\site-packages (from osmnx==1.1.2->prettymaps) (1.21.5)\n",
      "Requirement already satisfied: requests>=2.26 in c:\\users\\ivakr\\anaconda3\\lib\\site-packages (from osmnx==1.1.2->prettymaps) (2.27.1)\n",
      "Requirement already satisfied: pandas>=1.3 in c:\\users\\ivakr\\anaconda3\\lib\\site-packages (from osmnx==1.1.2->prettymaps) (1.4.2)\n",
      "Requirement already satisfied: fiona>=1.8 in c:\\users\\ivakr\\anaconda3\\lib\\site-packages (from geopandas>=0.10->osmnx==1.1.2->prettymaps) (1.8.22)\n",
      "Requirement already satisfied: packaging in c:\\users\\ivakr\\anaconda3\\lib\\site-packages (from geopandas>=0.10->osmnx==1.1.2->prettymaps) (21.3)\n",
      "Requirement already satisfied: cligj>=0.5 in c:\\users\\ivakr\\anaconda3\\lib\\site-packages (from fiona>=1.8->geopandas>=0.10->osmnx==1.1.2->prettymaps) (0.7.2)\n",
      "Requirement already satisfied: click-plugins>=1.0 in c:\\users\\ivakr\\anaconda3\\lib\\site-packages (from fiona>=1.8->geopandas>=0.10->osmnx==1.1.2->prettymaps) (1.1.1)\n",
      "Requirement already satisfied: click>=4.0 in c:\\users\\ivakr\\anaconda3\\lib\\site-packages (from fiona>=1.8->geopandas>=0.10->osmnx==1.1.2->prettymaps) (8.0.4)\n",
      "Requirement already satisfied: munch in c:\\users\\ivakr\\anaconda3\\lib\\site-packages (from fiona>=1.8->geopandas>=0.10->osmnx==1.1.2->prettymaps) (2.5.0)\n",
      "Requirement already satisfied: six>=1.7 in c:\\users\\ivakr\\anaconda3\\lib\\site-packages (from fiona>=1.8->geopandas>=0.10->osmnx==1.1.2->prettymaps) (1.16.0)\n",
      "Requirement already satisfied: certifi in c:\\users\\ivakr\\anaconda3\\lib\\site-packages (from fiona>=1.8->geopandas>=0.10->osmnx==1.1.2->prettymaps) (2021.10.8)\n",
      "Requirement already satisfied: setuptools in c:\\users\\ivakr\\anaconda3\\lib\\site-packages (from fiona>=1.8->geopandas>=0.10->osmnx==1.1.2->prettymaps) (61.2.0)\n",
      "Requirement already satisfied: attrs>=17 in c:\\users\\ivakr\\anaconda3\\lib\\site-packages (from fiona>=1.8->geopandas>=0.10->osmnx==1.1.2->prettymaps) (21.4.0)\n",
      "Requirement already satisfied: colorama in c:\\users\\ivakr\\anaconda3\\lib\\site-packages (from click>=4.0->fiona>=1.8->geopandas>=0.10->osmnx==1.1.2->prettymaps) (0.4.4)\n",
      "Requirement already satisfied: kiwisolver>=1.0.1 in c:\\users\\ivakr\\anaconda3\\lib\\site-packages (from matplotlib->descartes==1.1.0->prettymaps) (1.3.2)\n",
      "Requirement already satisfied: pyparsing>=2.2.1 in c:\\users\\ivakr\\anaconda3\\lib\\site-packages (from matplotlib->descartes==1.1.0->prettymaps) (3.0.4)\n",
      "Requirement already satisfied: cycler>=0.10 in c:\\users\\ivakr\\anaconda3\\lib\\site-packages (from matplotlib->descartes==1.1.0->prettymaps) (0.11.0)\n",
      "Requirement already satisfied: python-dateutil>=2.7 in c:\\users\\ivakr\\anaconda3\\lib\\site-packages (from matplotlib->descartes==1.1.0->prettymaps) (2.8.2)\n",
      "Requirement already satisfied: fonttools>=4.22.0 in c:\\users\\ivakr\\anaconda3\\lib\\site-packages (from matplotlib->descartes==1.1.0->prettymaps) (4.25.0)\n",
      "Requirement already satisfied: pillow>=6.2.0 in c:\\users\\ivakr\\anaconda3\\lib\\site-packages (from matplotlib->descartes==1.1.0->prettymaps) (9.0.1)\n",
      "Requirement already satisfied: pytz>=2020.1 in c:\\users\\ivakr\\anaconda3\\lib\\site-packages (from pandas>=1.3->osmnx==1.1.2->prettymaps) (2021.3)\n",
      "Requirement already satisfied: charset-normalizer~=2.0.0 in c:\\users\\ivakr\\anaconda3\\lib\\site-packages (from requests>=2.26->osmnx==1.1.2->prettymaps) (2.0.4)\n",
      "Requirement already satisfied: idna<4,>=2.5 in c:\\users\\ivakr\\anaconda3\\lib\\site-packages (from requests>=2.26->osmnx==1.1.2->prettymaps) (3.3)\n",
      "Requirement already satisfied: urllib3<1.27,>=1.21.1 in c:\\users\\ivakr\\anaconda3\\lib\\site-packages (from requests>=2.26->osmnx==1.1.2->prettymaps) (1.26.9)\n",
      "Installing collected packages: prettymaps\n",
      "  Attempting uninstall: prettymaps\n",
      "    Found existing installation: prettymaps 0.1.3\n",
      "    Uninstalling prettymaps-0.1.3:\n",
      "      Successfully uninstalled prettymaps-0.1.3\n",
      "  Running setup.py develop for prettymaps\n",
      "Successfully installed prettymaps-0.1.3\n"
     ]
    },
    {
     "name": "stderr",
     "output_type": "stream",
     "text": [
      "  Running command git clone -q https://github.com/marceloprates/prettymaps 'C:\\Users\\ivakr\\Documents\\GitHub\\30daymapchallenge\\scripts\\2022\\src\\prettymaps'\n",
      "  warning: the following paths have collided (e.g. case-sensitive paths\n",
      "  on a case-insensitive filesystem) and only one from the same\n",
      "  colliding group is in the working tree:\n",
      "\n",
      "    'prints/Erbil.svg'\n",
      "    'prints/erbil.svg'\n",
      "    'prints/Palmanova.svg'\n",
      "    'prints/palmanova.svg'\n"
     ]
    }
   ],
   "source": [
    "!pip install -e \"git+https://github.com/marceloprates/prettymaps#egg=prettymaps\"\n"
   ]
  },
  {
   "cell_type": "code",
   "execution_count": 4,
   "id": "cc74b747",
   "metadata": {},
   "outputs": [
    {
     "ename": "SyntaxError",
     "evalue": "invalid syntax (2414336290.py, line 1)",
     "output_type": "error",
     "traceback": [
      "\u001b[1;36m  Cell \u001b[1;32mIn[4], line 1\u001b[1;36m\u001b[0m\n\u001b[1;33m    import prettymaps-0.1.3\u001b[0m\n\u001b[1;37m                     ^\u001b[0m\n\u001b[1;31mSyntaxError\u001b[0m\u001b[1;31m:\u001b[0m invalid syntax\n"
     ]
    }
   ],
   "source": [
    "import prettymaps-0.1.3"
   ]
  }
 ],
 "metadata": {
  "kernelspec": {
   "display_name": "Python 3 (ipykernel)",
   "language": "python",
   "name": "python3"
  },
  "language_info": {
   "codemirror_mode": {
    "name": "ipython",
    "version": 3
   },
   "file_extension": ".py",
   "mimetype": "text/x-python",
   "name": "python",
   "nbconvert_exporter": "python",
   "pygments_lexer": "ipython3",
   "version": "3.10.8"
  }
 },
 "nbformat": 4,
 "nbformat_minor": 5
}
